{
 "cells": [
  {
   "cell_type": "markdown",
   "metadata": {},
   "source": [
    "This is a test notebook used for development of the analysis pipeline"
   ]
  },
  {
   "cell_type": "code",
   "execution_count": 1,
   "metadata": {},
   "outputs": [],
   "source": [
    "\n",
    "import fraction\n",
    "import plotting\n",
    "import matplotlib.pyplot as plt\n",
    "import numpy as np\n",
    "import os\n",
    "import math\n",
    "import scipy\n",
    "import pandas as pd\n",
    "from scipy import io\n",
    "import statsmodels.api as sm\n",
    "import statsmodels.formula.api as smf\n",
    "import lifelines\n",
    "from lifelines import*\n",
    "from lifelines.statistics import multivariate_logrank_test\n",
    "\n"
   ]
  },
  {
   "cell_type": "code",
   "execution_count": 2,
   "metadata": {},
   "outputs": [],
   "source": [
    "indicesfile = 'MB312_Chrimson_Male_pausing_mean_fraction_frames.mat'\n",
    "indicesfile2 = 'MaleTNT1forAnnikafinal_pausing_mean_fraction_frames.mat'\n",
    "indicespath = '/Volumes/LaCie/Projects/aDN_MB/behaviour/tracked/Analysis/'"
   ]
  },
  {
   "cell_type": "code",
   "execution_count": 3,
   "metadata": {},
   "outputs": [],
   "source": [
    "filepath = os.path.join(indicespath, indicesfile)\n",
    "filecontents = io.loadmat(filepath)"
   ]
  },
  {
   "cell_type": "code",
   "execution_count": 4,
   "metadata": {},
   "outputs": [],
   "source": [
    "df2 = fraction.load_fraction_files(indicespath, [indicesfile, indicesfile2])"
   ]
  },
  {
   "cell_type": "code",
   "execution_count": 5,
   "metadata": {},
   "outputs": [
    {
     "data": {
      "image/png": "[encoded data removed]",
      "text/plain": [
       "<Figure size 648x432 with 1 Axes>"
      ]
     },
     "metadata": {
      "needs_background": "light"
     },
     "output_type": "display_data"
    }
   ],
   "source": [
    "fraction.plot_frac(df2)"
   ]
  }
 ],
 "metadata": {
  "interpreter": {
   "hash": "f13f067729b5e44752b58c8f0b5ce32a7a3f28ae537f9be840c83a360325a9e5"
  },
  "kernelspec": {
   "display_name": "Python 3.9.4  ('venv': venv)",
   "language": "python",
   "name": "python3"
  },
  "language_info": {
   "codemirror_mode": {
    "name": "ipython",
    "version": 3
   },
   "file_extension": ".py",
   "mimetype": "text/x-python",
   "name": "python",
   "nbconvert_exporter": "python",
   "pygments_lexer": "ipython3",
   "version": "3.8.5"
  },
  "metadata": {
   "interpreter": {
    "hash": "e6a651ef3f6b0f618ad61555d5f6a6e06bfc8e4dcf48549e42f4e7827c0a5c1f"
   }
  },
  "orig_nbformat": 2
 },
 "nbformat": 4,
 "nbformat_minor": 2
}
