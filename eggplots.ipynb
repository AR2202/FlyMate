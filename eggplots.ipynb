{
 "cells": [
  {
   "cell_type": "code",
   "execution_count": 10,
   "metadata": {},
   "outputs": [],
   "source": [
    "import egglaying\n",
    "import plotting\n",
    "import matplotlib.pyplot as plt"
   ]
  },
  {
   "cell_type": "markdown",
   "metadata": {},
   "source": [
    "This is a sample notebook for testing the analysisfunctions"
   ]
  },
  {
   "cell_type": "markdown",
   "metadata": {},
   "source": [
    "Reading in the egg laying files"
   ]
  },
  {
   "cell_type": "code",
   "execution_count": 11,
   "metadata": {},
   "outputs": [],
   "source": [
    "datapath = '/Volumes/LaCie/Projects/aDN_MB/behaviour/'\n",
    "pathaDN =  'aDN_Chrimson_Female_egglaying_lighton.csv'\n",
    "pathotdChr =  'otdChrimson_Female_egglaying_lighton.csv'\n",
    "aDNlightoff =  'aDN_Chrimson_Female_egglaying_lightoff.csv'\n",
    "otdChrlightoff = 'otdChrimson_Female_egglaying_lightoff.csv'\n"
   ]
  },
  {
   "cell_type": "code",
   "execution_count": 12,
   "metadata": {},
   "outputs": [],
   "source": [
    "df = egglaying.read_egglaying(datapath, [pathaDN, pathotdChr])"
   ]
  },
  {
   "cell_type": "code",
   "execution_count": 13,
   "metadata": {},
   "outputs": [
    {
     "data": {
      "text/html": [
       "<div>\n",
       "<style scoped>\n",
       "    .dataframe tbody tr th:only-of-type {\n",
       "        vertical-align: middle;\n",
       "    }\n",
       "\n",
       "    .dataframe tbody tr th {\n",
       "        vertical-align: top;\n",
       "    }\n",
       "\n",
       "    .dataframe thead th {\n",
       "        text-align: right;\n",
       "    }\n",
       "</style>\n",
       "<table border=\"1\" class=\"dataframe\">\n",
       "  <thead>\n",
       "    <tr style=\"text-align: right;\">\n",
       "      <th></th>\n",
       "      <th>24h</th>\n",
       "      <th>48h</th>\n",
       "      <th>group</th>\n",
       "    </tr>\n",
       "  </thead>\n",
       "  <tbody>\n",
       "    <tr>\n",
       "      <th>0</th>\n",
       "      <td>48.0</td>\n",
       "      <td>21.0</td>\n",
       "      <td>aDN_Chrimson_Female_egglaying_lighton.csv</td>\n",
       "    </tr>\n",
       "    <tr>\n",
       "      <th>1</th>\n",
       "      <td>40.0</td>\n",
       "      <td>16.0</td>\n",
       "      <td>aDN_Chrimson_Female_egglaying_lighton.csv</td>\n",
       "    </tr>\n",
       "    <tr>\n",
       "      <th>2</th>\n",
       "      <td>20.0</td>\n",
       "      <td>15.0</td>\n",
       "      <td>aDN_Chrimson_Female_egglaying_lighton.csv</td>\n",
       "    </tr>\n",
       "    <tr>\n",
       "      <th>3</th>\n",
       "      <td>9.0</td>\n",
       "      <td>20.0</td>\n",
       "      <td>aDN_Chrimson_Female_egglaying_lighton.csv</td>\n",
       "    </tr>\n",
       "    <tr>\n",
       "      <th>4</th>\n",
       "      <td>0.0</td>\n",
       "      <td>1.0</td>\n",
       "      <td>aDN_Chrimson_Female_egglaying_lighton.csv</td>\n",
       "    </tr>\n",
       "    <tr>\n",
       "      <th>...</th>\n",
       "      <td>...</td>\n",
       "      <td>...</td>\n",
       "      <td>...</td>\n",
       "    </tr>\n",
       "    <tr>\n",
       "      <th>65</th>\n",
       "      <td>NaN</td>\n",
       "      <td>NaN</td>\n",
       "      <td>otdChrimson_Female_egglaying_lighton.csv</td>\n",
       "    </tr>\n",
       "    <tr>\n",
       "      <th>66</th>\n",
       "      <td>2.0</td>\n",
       "      <td>23.0</td>\n",
       "      <td>otdChrimson_Female_egglaying_lighton.csv</td>\n",
       "    </tr>\n",
       "    <tr>\n",
       "      <th>67</th>\n",
       "      <td>2.0</td>\n",
       "      <td>41.0</td>\n",
       "      <td>otdChrimson_Female_egglaying_lighton.csv</td>\n",
       "    </tr>\n",
       "    <tr>\n",
       "      <th>68</th>\n",
       "      <td>NaN</td>\n",
       "      <td>NaN</td>\n",
       "      <td>otdChrimson_Female_egglaying_lighton.csv</td>\n",
       "    </tr>\n",
       "    <tr>\n",
       "      <th>69</th>\n",
       "      <td>9.0</td>\n",
       "      <td>18.0</td>\n",
       "      <td>otdChrimson_Female_egglaying_lighton.csv</td>\n",
       "    </tr>\n",
       "  </tbody>\n",
       "</table>\n",
       "<p>70 rows × 3 columns</p>\n",
       "</div>"
      ],
      "text/plain": [
       "     24h   48h                                      group\n",
       "0   48.0  21.0  aDN_Chrimson_Female_egglaying_lighton.csv\n",
       "1   40.0  16.0  aDN_Chrimson_Female_egglaying_lighton.csv\n",
       "2   20.0  15.0  aDN_Chrimson_Female_egglaying_lighton.csv\n",
       "3    9.0  20.0  aDN_Chrimson_Female_egglaying_lighton.csv\n",
       "4    0.0   1.0  aDN_Chrimson_Female_egglaying_lighton.csv\n",
       "..   ...   ...                                        ...\n",
       "65   NaN   NaN   otdChrimson_Female_egglaying_lighton.csv\n",
       "66   2.0  23.0   otdChrimson_Female_egglaying_lighton.csv\n",
       "67   2.0  41.0   otdChrimson_Female_egglaying_lighton.csv\n",
       "68   NaN   NaN   otdChrimson_Female_egglaying_lighton.csv\n",
       "69   9.0  18.0   otdChrimson_Female_egglaying_lighton.csv\n",
       "\n",
       "[70 rows x 3 columns]"
      ]
     },
     "execution_count": 13,
     "metadata": {},
     "output_type": "execute_result"
    }
   ],
   "source": [
    "df\n"
   ]
  },
  {
   "cell_type": "code",
   "execution_count": 14,
   "metadata": {},
   "outputs": [],
   "source": [
    "df_pre = egglaying.preprocess_egglaying(df)"
   ]
  },
  {
   "cell_type": "code",
   "execution_count": 15,
   "metadata": {},
   "outputs": [
    {
     "data": {
      "image/png": "[encoded data removed]",
      "text/plain": [
       "<Figure size 648x432 with 1 Axes>"
      ]
     },
     "metadata": {
      "needs_background": "light"
     },
     "output_type": "display_data"
    }
   ],
   "source": [
    "\n",
    "labels = ['aDN>Chrimson','Otd-Flp;stop>Chrimson']\n",
    "colors = ['magenta','black']\n",
    "colors2 = ['magenta','magenta','black','black']\n",
    "plotting.boxplot_groups(df_pre, 'group', '24h')\n",
    "\n",
    "\n",
    "\n"
   ]
  }
 ],
 "metadata": {
  "kernelspec": {
   "display_name": "Python 3.7.4 64-bit",
   "metadata": {
    "interpreter": {
     "hash": "aee8b7b246df8f9039afb4144a1f6fd8d2ca17a180786b69acc140d282b71a49"
    }
   },
   "name": "python3"
  },
  "language_info": {
   "codemirror_mode": {
    "name": "ipython",
    "version": 3
   },
   "file_extension": ".py",
   "mimetype": "text/x-python",
   "name": "python",
   "nbconvert_exporter": "python",
   "pygments_lexer": "ipython3",
   "version": "3.8.5"
  },
  "orig_nbformat": 2
 },
 "nbformat": 4,
 "nbformat_minor": 2
}
